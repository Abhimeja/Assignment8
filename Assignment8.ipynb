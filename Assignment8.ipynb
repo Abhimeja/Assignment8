{
 "cells": [
  {
   "cell_type": "markdown",
   "id": "6d299042-37c3-4cb4-9a7b-c3c90b2b694c",
   "metadata": {},
   "source": [
    "Q1. What is Abstraction in OOps? Explain with an example.\n",
    "\n",
    "Ans--"
   ]
  },
  {
   "cell_type": "markdown",
   "id": "09550f41-0215-4f58-9cec-85cdf5140b16",
   "metadata": {},
   "source": [
    "In object-oriented programming (OOP), abstraction is a fundamental concept that allows you to represent complex real-world entities as simplified models within your code. It involves focusing on the essential characteristics and behavior of an object while hiding the unnecessary details.\n",
    "\n",
    "Abstraction enables you to create abstract classes and interfaces that define a common structure and behavior for a group of related objects. It allows you to define the common properties and methods that all objects within that group should have, without specifying the implementation details.\n",
    "\n",
    "Example of Abstraction in OOps:"
   ]
  },
  {
   "cell_type": "code",
   "execution_count": 10,
   "id": "524ef531-2de4-4fcc-b08a-5c94ab55add0",
   "metadata": {},
   "outputs": [],
   "source": [
    "from abc import ABC, abstractmethod\n",
    "\n",
    "class Animal(ABC):\n",
    "    def __init__(self, name, age, gender):\n",
    "        self.name = name\n",
    "        self.age = age\n",
    "        self.gender = gender\n",
    "    \n",
    "    @abstractmethod\n",
    "    def eat(self):\n",
    "        pass\n",
    "    \n",
    "    @abstractmethod\n",
    "    def sleep(self):\n",
    "        pass\n",
    "\n",
    "class Lion(Animal):\n",
    "    def __init__(self, name, age, gender):\n",
    "        super().__init__(name, age, gender)\n",
    "    \n",
    "    def eat(self):\n",
    "        print(f\"{self.name} the Lion is eating.\")\n",
    "    \n",
    "    def sleep(self):\n",
    "        print(f\"{self.name} the Lion is sleeping.\")\n",
    "\n",
    "class Elephant(Animal):\n",
    "    def __init__(self, name, age, gender):\n",
    "        super().__init__(name, age, gender)\n",
    "    \n",
    "    def eat(self):\n",
    "        print(f\"{self.name} the Elephant is eating.\")\n",
    "    \n",
    "    def sleep(self):\n",
    "        print(f\"{self.name} the Elephant is sleeping.\")\n"
   ]
  },
  {
   "cell_type": "code",
   "execution_count": 11,
   "id": "cf62c5aa-630d-4a5b-9d01-81b5c89b7164",
   "metadata": {},
   "outputs": [
    {
     "name": "stdout",
     "output_type": "stream",
     "text": [
      "Simba the Lion is eating.\n",
      "Dumbo the Elephant is sleeping.\n"
     ]
    }
   ],
   "source": [
    "lion = Lion(\"Simba\", 5, \"male\")\n",
    "elephant = Elephant(\"Dumbo\", 10, \"female\")\n",
    "\n",
    "lion.eat()  \n",
    "elephant.sleep()  \n"
   ]
  },
  {
   "cell_type": "markdown",
   "id": "771fc237-79c8-4438-916f-5acd4a3980a3",
   "metadata": {},
   "source": [
    "Q2. Differentiate between Abstraction and Encapsulation. Explain with an example.\n",
    "\n",
    "Ans--"
   ]
  },
  {
   "cell_type": "markdown",
   "id": "6b1cc6aa-a3b3-4fd5-990d-99c81f7a36eb",
   "metadata": {},
   "source": [
    "Abstraction and encapsulation are two important concepts in object-oriented programming, but they have distinct meanings and purposes.\n",
    "\n",
    "1.Abstraction:\n",
    "Abstraction refers to the process of simplifying complex systems by focusing on the essential features while ignoring the unnecessary details. It is a way of representing the essential characteristics of an object or system, without exposing its internal workings. In other words, it allows you to define a clear and concise interface for interacting with an object, hiding the underlying complexity.\n",
    "\n",
    "Example:\n",
    "Let's consider an example of a car. From an abstract perspective, we can define a car as a means of transportation with certain behaviors and properties. We are not concerned with the intricate details of how the car's engine works, the internal mechanisms of the transmission, or the electrical wiring. Instead, we focus on the essential features that a user needs to interact with, such as accelerating, braking, and steering. The user doesn't need to know the internal complexities; they can simply use the car by utilizing its interface.\n",
    "\n",
    "2.Encapsulation:\n",
    "Encapsulation refers to the bundling of data and methods within a class and controlling their access through public and private modifiers. It is a way to hide the internal implementation details of an object and provide controlled access to its data and behavior.\n",
    "\n",
    "Encapsulation helps in achieving data integrity and prevents direct access to an object's internal state from outside the class. It provides a way to ensure that the object's data is accessed and modified through well-defined methods, known as getters and setters, which enforce any necessary validations or constraints.\n",
    "\n",
    "Example of Encapsulation:\n",
    "\n"
   ]
  },
  {
   "cell_type": "code",
   "execution_count": 12,
   "id": "e8611bad-282e-4c6e-a2c5-fcc908438d53",
   "metadata": {},
   "outputs": [
    {
     "name": "stdout",
     "output_type": "stream",
     "text": [
      "John\n",
      "Alice\n"
     ]
    }
   ],
   "source": [
    "class Person:\n",
    "    def __init__(self, name):\n",
    "        self.__name = name\n",
    "\n",
    "    def get_name(self):\n",
    "        return self.__name\n",
    "\n",
    "    def set_name(self, name):\n",
    "        self.__name = name\n",
    "\n",
    "person = Person(\"John\")\n",
    "print(person.get_name())  \n",
    "person.set_name(\"Alice\")\n",
    "print(person.get_name())\n"
   ]
  },
  {
   "cell_type": "markdown",
   "id": "24cd8a00-2130-4ec5-8ca5-8e20e91b174c",
   "metadata": {},
   "source": [
    "Q3. What is abc module in python? Why is it used?\n",
    "\n",
    "Ans--"
   ]
  },
  {
   "cell_type": "markdown",
   "id": "58c75f49-fced-47cc-a36b-54e176d021cc",
   "metadata": {},
   "source": [
    "In Python, the abc module stands for \"Abstract Base Classes.\" It provides a way to define abstract classes in Python and enforce certain behaviors or interfaces that subclasses must implement. An abstract class is a class that cannot be instantiated directly but serves as a blueprint for creating subclasses.\n",
    "\n",
    "The abc module is used when you want to define a common interface or a set of methods that multiple subclasses should implement. It helps in enforcing a certain structure or behavior in a hierarchy of classes. Abstract classes can define abstract methods, which are methods that have no implementation in the abstract class but must be implemented by any concrete subclass.\n",
    "\n",
    "Here are a few reasons why the abc module is used:\n",
    "\n",
    "1.Defining common interfaces: Abstract base classes allow you to define a common interface that multiple subclasses should adhere to. This promotes code reuse and helps in creating a consistent and predictable structure for your classes.\n",
    "\n",
    "2.Enforcing method implementation: Abstract methods defined in an abstract base class must be implemented by any concrete subclass. This ensures that all subclasses have a consistent set of methods, preventing potential errors and inconsistencies in the code.\n",
    "\n",
    "3.Providing a base for isinstance() checks: Abstract base classes can be used to perform runtime checks using the isinstance() function. This allows you to check if an object is an instance of a particular abstract base class or its subclasses, which can be useful for type checking and polymorphism."
   ]
  },
  {
   "cell_type": "markdown",
   "id": "4988c248-3645-49b8-9a38-a44322454ea0",
   "metadata": {},
   "source": [
    "Q4. How can we achieve data abstraction?\n",
    "\n",
    "Ans--"
   ]
  },
  {
   "cell_type": "markdown",
   "id": "521a3356-0e68-4db6-8d88-c620e0f3e52d",
   "metadata": {},
   "source": [
    "Data abstraction can be achieved through various techniques and concepts, such as encapsulation, abstraction layers, and data modeling. Here are some approaches to achieving data abstraction:\n",
    "\n",
    "1.Encapsulation: Encapsulation is a fundamental principle of object-oriented programming (OOP). It involves bundling data and the methods that operate on that data into a single unit called an object. By encapsulating data within objects, you can hide the internal implementation details and expose only the necessary interfaces or methods. This allows for data abstraction, as users can interact with the data using the provided interfaces without needing to know the underlying implementation.\n",
    "\n",
    "2.Abstract Data Types (ADTs): Abstract Data Types are a high-level concept that defines a set of data and the operations that can be performed on that data, without specifying the internal representation or implementation details. ADTs provide a clear interface for accessing and manipulating the data, hiding the implementation complexity. Examples of ADTs include lists, stacks, queues, and dictionaries.\n",
    "\n",
    "3.Abstraction Layers: Abstraction layers provide a hierarchical structure that separates different levels of complexity. Each layer abstracts away the details of the layer below it, providing a simplified interface for the layer above. In the context of data, abstraction layers can be implemented in systems such as databases. For example, a database management system (DBMS) provides a high-level query language that allows users to interact with the data without needing to know the underlying storage mechanisms or data organization.\n",
    "\n",
    "4.Data Modeling: Data modeling involves representing real-world entities, relationships, and attributes in a structured format. By creating models, such as entity-relationship diagrams or class diagrams, you can abstract away the complex details of the actual data and focus on the essential aspects. Data modeling allows you to define the structure, constraints, and behavior of the data, enabling data abstraction by providing a simplified representation of the underlying information.\n",
    "\n",
    "5.Interface Design: Designing well-defined interfaces is crucial for achieving data abstraction. Interfaces act as contracts between the components or systems that interact with the data. They specify the methods, operations, and properties that can be accessed or manipulated. By carefully designing interfaces, you can abstract away the internal workings of a component or system and provide a clear and simplified way to interact with the data."
   ]
  },
  {
   "cell_type": "markdown",
   "id": "fcc5ac78-e7e3-4744-86f5-002ff8d804d5",
   "metadata": {},
   "source": [
    "Q5. Can we create an instance of an abstract class? Explain your answer.\n",
    "\n",
    "Ans--"
   ]
  },
  {
   "cell_type": "code",
   "execution_count": null,
   "id": "07efa0ae-c165-4d65-aea0-f325a7ae1e3e",
   "metadata": {},
   "outputs": [],
   "source": []
  }
 ],
 "metadata": {
  "kernelspec": {
   "display_name": "Python 3 (ipykernel)",
   "language": "python",
   "name": "python3"
  },
  "language_info": {
   "codemirror_mode": {
    "name": "ipython",
    "version": 3
   },
   "file_extension": ".py",
   "mimetype": "text/x-python",
   "name": "python",
   "nbconvert_exporter": "python",
   "pygments_lexer": "ipython3",
   "version": "3.10.8"
  }
 },
 "nbformat": 4,
 "nbformat_minor": 5
}
